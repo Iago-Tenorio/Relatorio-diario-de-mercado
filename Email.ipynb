{
 "cells": [
  {
   "cell_type": "code",
   "execution_count": 7,
   "id": "1c368e8b",
   "metadata": {},
   "outputs": [],
   "source": [
    "import os\n",
    "import smtplib\n",
    "from email.message import EmailMessage\n",
    "from dotenv import load_dotenv"
   ]
  },
  {
   "cell_type": "code",
   "execution_count": 8,
   "id": "927b1da5",
   "metadata": {},
   "outputs": [
    {
     "data": {
      "text/plain": [
       "True"
      ]
     },
     "execution_count": 8,
     "metadata": {},
     "output_type": "execute_result"
    }
   ],
   "source": [
    "load_dotenv()"
   ]
  },
  {
   "cell_type": "code",
   "execution_count": 9,
   "id": "ee06c78f",
   "metadata": {},
   "outputs": [],
   "source": [
    "email = os.environ.get(\"email\")\n",
    "email_envio = os.environ.get(\"email_envio\")\n",
    "senha_do_email = os.environ.get(\"senha_email\")"
   ]
  },
  {
   "cell_type": "code",
   "execution_count": 10,
   "id": "0632ff1f",
   "metadata": {},
   "outputs": [],
   "source": [
    "msg = EmailMessage()\n",
    "msg['Subject']  = 'Relatório diário com python'\n",
    "msg['From'] = email\n",
    "msg['To'] = email_envio\n",
    "msg.set_content('''Segue o relatório diário''')"
   ]
  },
  {
   "cell_type": "code",
   "execution_count": 11,
   "id": "b35c6058",
   "metadata": {},
   "outputs": [],
   "source": [
    "with open('Relatório.pdf', 'rb') as content_file:\n",
    "    content = content_file.read()\n",
    "    msg.add_attachment(content, maintype='application', subtype='pdf', filename='relatorio_diario.pdf')"
   ]
  },
  {
   "cell_type": "code",
   "execution_count": 12,
   "id": "a2e151e5",
   "metadata": {},
   "outputs": [],
   "source": [
    "with smtplib.SMTP_SSL('smtp.gmail.com', 465) as smtp:\n",
    "    \n",
    "    smtp.login(email, senha_do_email)\n",
    "    smtp.send_message(msg)"
   ]
  }
 ],
 "metadata": {
  "kernelspec": {
   "display_name": "Python 3 (ipykernel)",
   "language": "python",
   "name": "python3"
  },
  "language_info": {
   "codemirror_mode": {
    "name": "ipython",
    "version": 3
   },
   "file_extension": ".py",
   "mimetype": "text/x-python",
   "name": "python",
   "nbconvert_exporter": "python",
   "pygments_lexer": "ipython3",
   "version": "3.10.9"
  }
 },
 "nbformat": 4,
 "nbformat_minor": 5
}
