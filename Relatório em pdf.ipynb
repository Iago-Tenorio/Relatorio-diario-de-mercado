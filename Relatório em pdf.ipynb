{
 "cells": [
  {
   "cell_type": "code",
   "execution_count": 9,
   "id": "f4a86c44",
   "metadata": {},
   "outputs": [],
   "source": [
    "from fpdf import FPDF\n",
    "import datetime as dt\n",
    "import yfinance as yf\n",
    "import pandas as pd\n",
    "import warnings\n",
    "warnings.filterwarnings(\"ignore\", category=DeprecationWarning) "
   ]
  },
  {
   "cell_type": "code",
   "execution_count": 10,
   "id": "bf167632",
   "metadata": {},
   "outputs": [
    {
     "name": "stdout",
     "output_type": "stream",
     "text": [
      "[*********************100%***********************]  3 of 3 completed\n"
     ]
    }
   ],
   "source": [
    "lista_indices = [\"^GSPC\", \"^BVSP\", \"USDBRL=X\"]\n",
    "data_inicio = \"2023-01-01\"\n",
    "data_atual = dt.datetime.now()\n",
    "\n",
    "cotacao_indices = yf.download(lista_indices, data_inicio, data_atual)[\"Adj Close\"]\n",
    "\n",
    "dolar_hoje = cotacao_indices[\"USDBRL=X\"][-1]\n",
    "\n",
    "dolar_hoje = \"{:.2f}\".format(dolar_hoje)\n",
    "\n",
    "cotacao_indices = cotacao_indices.dropna()\n",
    "\n",
    "ibov_hoje = cotacao_indices[\"^BVSP\"][-1]\n",
    "\n",
    "ibov_hoje = \"{:.2f}\".format(ibov_hoje)\n",
    "\n",
    "sep_hoje = cotacao_indices[\"^GSPC\"][-1]\n",
    "\n",
    "sep_hoje = \"{:.2f}\".format(sep_hoje)\n"
   ]
  },
  {
   "cell_type": "code",
   "execution_count": 11,
   "id": "1f087503",
   "metadata": {},
   "outputs": [],
   "source": [
    "class PDF(FPDF):\n",
    "    \n",
    "    def header(self):\n",
    "        import datetime as dt\n",
    "\n",
    "        self.set_font('Arial', 'B', 20)\n",
    "        self.set_draw_color(35, 155, 132) \n",
    "        self.cell(25, ln = False, border = False)\n",
    "        self.cell(150, 15, f\"Relatório de mercado {dt.datetime.now().date()}\", \n",
    "                  border = True, ln = True, align = \"C\")\n",
    "        self.ln(5)\n",
    "        \n",
    "    def footer(self):\n",
    "        \n",
    "        self.set_y(-15) \n",
    "        self.set_font('Arial', 'I', 10)\n",
    "        self.cell(0, 10, f\"{self.page_no()}/{{nb}}\", align = \"R\")"
   ]
  },
  {
   "cell_type": "code",
   "execution_count": 12,
   "id": "7b6a58e4",
   "metadata": {},
   "outputs": [],
   "source": [
    "pdf = PDF(\"P\", \"mm\", \"Letter\")\n",
    "pdf.alias_nb_pages()\n",
    "pdf.set_auto_page_break(auto = True, margin = 15)\n",
    "pdf.set_fill_color(255, 255, 255)\n",
    "pdf.set_draw_color(35, 155, 132)\n",
    "pdf.add_page()\n"
   ]
  },
  {
   "cell_type": "code",
   "execution_count": 13,
   "id": "b19a36d2",
   "metadata": {},
   "outputs": [],
   "source": [
    "pdf.set_font('Arial', 'B', 18)\n",
    "pdf.cell(0, 10, \"1 - Câmbio e Principais indices\", ln = True,  border = False, fill = False)\n",
    "pdf.ln(2)\n",
    "\n",
    "pdf.set_font('Arial', '', 14)\n",
    "pdf.cell(0, 15, \"1.1 Fechamento do mercado\", ln = True,  border = False, fill = True)\n",
    "\n",
    "pdf.ln(7)"
   ]
  },
  {
   "cell_type": "code",
   "execution_count": 14,
   "id": "ef3d06ac",
   "metadata": {},
   "outputs": [],
   "source": [
    "pdf.set_font('Arial', '', 13)\n",
    "pdf.cell(25, 15, \" Ibovespa\", ln = False,  border = True, fill = True)\n",
    "pdf.cell(25, 15, f\"{ibov_hoje}\", ln = True, border = True, fill = False)\n",
    "         \n",
    "\n",
    "pdf.cell(25, 15, \" S&P500\", ln = False,  border = True, fill = True)\n",
    "pdf.cell(25, 15, f\"{sep_hoje}\", ln = True,  border = True, fill = False)\n",
    "\n",
    "\n",
    "pdf.cell(25, 15, \" Dólar\", ln = False,  border = True, fill = True)\n",
    "pdf.cell(25, 15, f\"R${dolar_hoje}\", ln = True,  border = True, fill = False)\n",
    "\n",
    "pdf.ln(7)"
   ]
  },
  {
   "cell_type": "code",
   "execution_count": 15,
   "id": "91bdb8a8",
   "metadata": {},
   "outputs": [],
   "source": [
    "pdf.set_font('Arial', '', 14)\n",
    "pdf.cell(0, 15, \"   1.2 Gráficos Ibovespa, S&P500 e Dólar\", ln = True,  border = False, fill = False)\n",
    "\n",
    "pdf.cell(95, 15, \"Ibovespa\", ln = False,  border = False, fill = False, align = \"C\")\n",
    "pdf.cell(100, 15, \"S&P500\", ln = True,  border = False, fill = False, align = \"C\")\n",
    "pdf.image(\"ibov.png\", w = 80, h = 70, x = 20, y = 160)\n",
    "pdf.image(\"SEP.png\", w = 80, h = 70, x = 115, y = 160)\n",
    "\n",
    "pdf.ln(130)\n",
    "\n",
    "pdf.cell(0, 15, \"Dólar\", ln = True,  border = False, fill = False, align = \"C\")\n",
    "pdf.image(\"Dolar.png\", w = 100, h = 75, x = 58)\n",
    "\n",
    "\n",
    "pdf.ln(2)\n"
   ]
  },
  {
   "cell_type": "code",
   "execution_count": 16,
   "id": "238eb04c",
   "metadata": {},
   "outputs": [
    {
     "data": {
      "text/plain": [
       "''"
      ]
     },
     "execution_count": 16,
     "metadata": {},
     "output_type": "execute_result"
    }
   ],
   "source": [
    "pdf.output(\"Relatório.pdf\")"
   ]
  },
  {
   "cell_type": "code",
   "execution_count": null,
   "id": "8ab6b83c",
   "metadata": {},
   "outputs": [],
   "source": []
  }
 ],
 "metadata": {
  "kernelspec": {
   "display_name": "Python 3 (ipykernel)",
   "language": "python",
   "name": "python3"
  },
  "language_info": {
   "codemirror_mode": {
    "name": "ipython",
    "version": 3
   },
   "file_extension": ".py",
   "mimetype": "text/x-python",
   "name": "python",
   "nbconvert_exporter": "python",
   "pygments_lexer": "ipython3",
   "version": "3.10.9"
  }
 },
 "nbformat": 4,
 "nbformat_minor": 5
}
